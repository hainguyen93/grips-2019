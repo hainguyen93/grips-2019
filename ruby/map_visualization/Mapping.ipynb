{
 "cells": [
  {
   "cell_type": "markdown",
   "metadata": {},
   "source": [
    "Try to produce visualizations of the train schedules throughout Germany"
   ]
  },
  {
   "cell_type": "code",
   "execution_count": 1,
   "metadata": {},
   "outputs": [],
   "source": [
    "import json\n",
    "locations = {}\n",
    "with open('locations.json', 'r') as f:\n",
    "    locations = json.load(f)\n",
    "edges = {}\n",
    "with open('edge_data.json', 'r') as f:\n",
    "    edges = json.load(f)"
   ]
  },
  {
   "cell_type": "code",
   "execution_count": 2,
   "metadata": {},
   "outputs": [
    {
     "data": {
      "application/vnd.jupyter.widget-view+json": {
       "model_id": "a08f4a004bbe410f8b1d2358758db782",
       "version_major": 2,
       "version_minor": 0
      },
      "text/plain": [
       "MapView(layout=Layout(height='400px', width='100%'))"
      ]
     },
     "metadata": {},
     "output_type": "display_data"
    },
    {
     "data": {
      "text/html": [
       "<div class=\"map-static-img-preview-40e56477-cc44-45b2-af30-dfee5db29bb0\"><img src=\"\"></img></div>"
      ],
      "text/plain": [
       "<IPython.core.display.HTML object>"
      ]
     },
     "metadata": {},
     "output_type": "display_data"
    }
   ],
   "source": [
    "from arcgis.gis import GIS\n",
    "from arcgis.mapping import WebMap\n",
    "from arcgis.geometry import Point, Polyline\n",
    "    \n",
    "gis = GIS()\n",
    "germany = gis.map('Germany')\n",
    "\n",
    "# Draw Train Stations\n",
    "for location, coord in locations.items():\n",
    "    pt = Point({\"x\" : coord[0], \"y\" : coord[1], \"spatialReference\" : {\"wkid\" : 4326}})\n",
    "    germany.draw(pt)\n",
    "\n",
    "# Draw Edges\n",
    "for edge, nodes in edges.items():\n",
    "    line = Polyline(\n",
    "        {\n",
    "            \"paths\": [\n",
    "                        [\n",
    "                          locations[nodes[0]],\n",
    "                          locations[nodes[1]]\n",
    "                        ]\n",
    "                      ],\n",
    "                      \"spatialReference\": {\n",
    "                        \"wkid\": 4326\n",
    "                      }\n",
    "        }\n",
    "    )\n",
    "    germany.draw(line)\n",
    "germany"
   ]
  },
  {
   "cell_type": "code",
   "execution_count": null,
   "metadata": {},
   "outputs": [],
   "source": []
  }
 ],
 "metadata": {
  "kernelspec": {
   "display_name": "Python 3",
   "language": "python",
   "name": "python3"
  },
  "language_info": {
   "codemirror_mode": {
    "name": "ipython",
    "version": 3
   },
   "file_extension": ".py",
   "mimetype": "text/x-python",
   "name": "python",
   "nbconvert_exporter": "python",
   "pygments_lexer": "ipython3",
   "version": "3.6.0"
  }
 },
 "nbformat": 4,
 "nbformat_minor": 2
}
